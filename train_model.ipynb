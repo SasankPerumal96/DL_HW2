{
 "cells": [
  {
   "cell_type": "code",
   "execution_count": 1,
   "metadata": {},
   "outputs": [],
   "source": [
    "import pandas as pd\n",
    "import matplotlib.pyplot as plt"
   ]
  },
  {
   "cell_type": "code",
   "execution_count": 3,
   "metadata": {},
   "outputs": [
    {
     "name": "stdout",
     "output_type": "stream",
     "text": [
      "<class 'pandas.core.frame.DataFrame'>\n",
      "RangeIndex: 3003 entries, 0 to 3002\n",
      "Data columns (total 2 columns):\n",
      " #   Column  Non-Null Count  Dtype \n",
      "---  ------  --------------  ----- \n",
      " 0   de      3003 non-null   object\n",
      " 1   en      3003 non-null   object\n",
      "dtypes: object(2)\n",
      "memory usage: 47.1+ KB\n"
     ]
    }
   ],
   "source": [
    "file_path = 'wmt14_translate_de-en_test.csv'\n",
    "data = pd.read_csv(file_path)\n",
    "data.info()"
   ]
  },
  {
   "cell_type": "code",
   "execution_count": 4,
   "metadata": {},
   "outputs": [
    {
     "data": {
      "text/html": [
       "<div>\n",
       "<style scoped>\n",
       "    .dataframe tbody tr th:only-of-type {\n",
       "        vertical-align: middle;\n",
       "    }\n",
       "\n",
       "    .dataframe tbody tr th {\n",
       "        vertical-align: top;\n",
       "    }\n",
       "\n",
       "    .dataframe thead th {\n",
       "        text-align: right;\n",
       "    }\n",
       "</style>\n",
       "<table border=\"1\" class=\"dataframe\">\n",
       "  <thead>\n",
       "    <tr style=\"text-align: right;\">\n",
       "      <th></th>\n",
       "      <th>de</th>\n",
       "      <th>en</th>\n",
       "    </tr>\n",
       "  </thead>\n",
       "  <tbody>\n",
       "    <tr>\n",
       "      <th>0</th>\n",
       "      <td>Ursprünglich war die Schulhofsanierung sogar s...</td>\n",
       "      <td>The school yard renovation was originally plan...</td>\n",
       "    </tr>\n",
       "    <tr>\n",
       "      <th>1</th>\n",
       "      <td>Von daher werden sie gegen ihren Ex-Coach sich...</td>\n",
       "      <td>Consequently, they will be particularly motiva...</td>\n",
       "    </tr>\n",
       "    <tr>\n",
       "      <th>2</th>\n",
       "      <td>Sie sind nicht alle erfahrene Rennfahrer, sond...</td>\n",
       "      <td>They're not all experienced racers, but people...</td>\n",
       "    </tr>\n",
       "    <tr>\n",
       "      <th>3</th>\n",
       "      <td>In seinem Brief macht Snowden den deutschen Be...</td>\n",
       "      <td>The letter extends an offer to cooperate with ...</td>\n",
       "    </tr>\n",
       "    <tr>\n",
       "      <th>4</th>\n",
       "      <td>Ein Anwohner im Bischof-Freundorfer-Weg meldet...</td>\n",
       "      <td>The residents of the Bischof-Freundorfer-Weg r...</td>\n",
       "    </tr>\n",
       "  </tbody>\n",
       "</table>\n",
       "</div>"
      ],
      "text/plain": [
       "                                                  de  \\\n",
       "0  Ursprünglich war die Schulhofsanierung sogar s...   \n",
       "1  Von daher werden sie gegen ihren Ex-Coach sich...   \n",
       "2  Sie sind nicht alle erfahrene Rennfahrer, sond...   \n",
       "3  In seinem Brief macht Snowden den deutschen Be...   \n",
       "4  Ein Anwohner im Bischof-Freundorfer-Weg meldet...   \n",
       "\n",
       "                                                  en  \n",
       "0  The school yard renovation was originally plan...  \n",
       "1  Consequently, they will be particularly motiva...  \n",
       "2  They're not all experienced racers, but people...  \n",
       "3  The letter extends an offer to cooperate with ...  \n",
       "4  The residents of the Bischof-Freundorfer-Weg r...  "
      ]
     },
     "execution_count": 4,
     "metadata": {},
     "output_type": "execute_result"
    }
   ],
   "source": [
    "data.head()"
   ]
  },
  {
   "cell_type": "code",
   "execution_count": 5,
   "metadata": {},
   "outputs": [
    {
     "data": {
      "text/plain": [
       "de    0\n",
       "en    0\n",
       "dtype: int64"
      ]
     },
     "execution_count": 5,
     "metadata": {},
     "output_type": "execute_result"
    }
   ],
   "source": [
    "data.isnull().sum()"
   ]
  },
  {
   "cell_type": "code",
   "execution_count": 6,
   "metadata": {},
   "outputs": [
    {
     "data": {
      "image/png": "[encoded data removed]",
      "text/plain": [
       "<Figure size 1200x600 with 1 Axes>"
      ]
     },
     "metadata": {},
     "output_type": "display_data"
    }
   ],
   "source": [
    "data['en_len'] = data['en'].apply(lambda x: len(x.split()))\n",
    "data['de_len'] = data['de'].apply(lambda x: len(x.split()))\n",
    "\n",
    "plt.figure(figsize=(12, 6))\n",
    "plt.hist(data['en_len'], bins=20, alpha=0.5, label='English Sentence Length')\n",
    "plt.hist(data['de_len'], bins=20, alpha=0.5, label='German Sentence Length')\n",
    "plt.title('Sentence Length Distribution')\n",
    "plt.xlabel('Sentence Length')\n",
    "plt.ylabel('Frequency')\n",
    "plt.legend()\n",
    "plt.show()"
   ]
  },
  {
   "cell_type": "code",
   "execution_count": 7,
   "metadata": {},
   "outputs": [
    {
     "name": "stderr",
     "output_type": "stream",
     "text": [
      "/Users/sasankperumal/Documents/DL_HW2/venv/lib/python3.11/site-packages/tqdm/auto.py:21: TqdmWarning: IProgress not found. Please update jupyter and ipywidgets. See https://ipywidgets.readthedocs.io/en/stable/user_install.html\n",
      "  from .autonotebook import tqdm as notebook_tqdm\n",
      "/Users/sasankperumal/Documents/DL_HW2/venv/lib/python3.11/site-packages/transformers/models/marian/tokenization_marian.py:175: UserWarning: Recommended: pip install sacremoses.\n",
      "  warnings.warn(\"Recommended: pip install sacremoses.\")\n"
     ]
    }
   ],
   "source": [
    "from transformers import AutoTokenizer\n",
    "\n",
    "# Load tokenizers\n",
    "opus_tokenizer = AutoTokenizer.from_pretrained(\"Helsinki-NLP/opus-mt-en-de\")\n",
    "t5_tokenizer = AutoTokenizer.from_pretrained(\"google-t5/t5-small\")\n",
    "\n",
    "# Tokenize the dataset\n",
    "def tokenize_data(data, tokenizer, max_length=128, source_col=\"en\", target_col=\"de\"):\n",
    "    source_tokens = tokenizer(\n",
    "        list(data[source_col]),\n",
    "        max_length=max_length,\n",
    "        padding=\"max_length\",\n",
    "        truncation=True,\n",
    "        return_tensors=\"pt\",\n",
    "    )\n",
    "    target_tokens = tokenizer(\n",
    "        list(data[target_col]),\n",
    "        max_length=max_length,\n",
    "        padding=\"max_length\",\n",
    "        truncation=True,\n",
    "        return_tensors=\"pt\",\n",
    "    )\n",
    "    return source_tokens, target_tokens\n",
    "\n",
    "# Tokenize for both models\n",
    "opus_source, opus_target = tokenize_data(data, opus_tokenizer)\n",
    "t5_source, t5_target = tokenize_data(data, t5_tokenizer)\n"
   ]
  },
  {
   "cell_type": "code",
   "execution_count": 10,
   "metadata": {},
   "outputs": [],
   "source": [
    "import numpy as np\n",
    "import torch\n",
    "\n",
    "# Split dataset into train and test sets using numpy\n",
    "def train_test_split_np(data, test_size=0.2, random_seed=42):\n",
    "    np.random.seed(random_seed)\n",
    "    indices = np.random.permutation(len(data))\n",
    "    split_idx = int(len(data) * (1 - test_size))\n",
    "    train_indices, test_indices = indices[:split_idx], indices[split_idx:]\n",
    "    return data.iloc[train_indices], data.iloc[test_indices]\n",
    "\n",
    "# Split the dataset\n",
    "train_data, test_data = train_test_split_np(data)\n",
    "\n",
    "# Tokenize train and test sets for both models\n",
    "opus_train_source, opus_train_target = tokenize_data(train_data, opus_tokenizer)\n",
    "opus_test_source, opus_test_target = tokenize_data(test_data, opus_tokenizer)\n",
    "\n",
    "t5_train_source, t5_train_target = tokenize_data(train_data, t5_tokenizer)\n",
    "t5_test_source, t5_test_target = tokenize_data(test_data, t5_tokenizer)\n",
    "\n",
    "# Convert to PyTorch datasets\n",
    "class TranslationDataset(torch.utils.data.Dataset):\n",
    "    def __init__(self, source, target):\n",
    "        self.source = source\n",
    "        self.target = target\n",
    "\n",
    "    def __len__(self):\n",
    "        return self.source[\"input_ids\"].shape[0]\n",
    "\n",
    "    def __getitem__(self, idx):\n",
    "        return {\n",
    "            \"input_ids\": self.source[\"input_ids\"][idx],\n",
    "            \"attention_mask\": self.source[\"attention_mask\"][idx],\n",
    "            \"labels\": self.target[\"input_ids\"][idx],\n",
    "        }\n",
    "\n",
    "opus_train_dataset = TranslationDataset(opus_train_source, opus_train_target)\n",
    "opus_test_dataset = TranslationDataset(opus_test_source, opus_test_target)\n",
    "\n",
    "t5_train_dataset = TranslationDataset(t5_train_source, t5_train_target)\n",
    "t5_test_dataset = TranslationDataset(t5_test_source, t5_test_target)\n"
   ]
  },
  {
   "cell_type": "code",
   "execution_count": 14,
   "metadata": {},
   "outputs": [
    {
     "name": "stderr",
     "output_type": "stream",
     "text": [
      "/Users/sasankperumal/Documents/DL_HW2/venv/lib/python3.11/site-packages/transformers/optimization.py:591: FutureWarning: This implementation of AdamW is deprecated and will be removed in a future version. Use the PyTorch implementation torch.optim.AdamW instead, or set `no_deprecation_warning=True` to disable this warning\n",
      "  warnings.warn(\n"
     ]
    },
    {
     "name": "stdout",
     "output_type": "stream",
     "text": [
      "Training Helsinki-NLP model...\n",
      "Epoch 1/3, Loss: 1.2065\n",
      "Epoch 2/3, Loss: 0.7331\n",
      "Epoch 3/3, Loss: 0.5460\n",
      "Training T5 model...\n"
     ]
    },
    {
     "name": "stderr",
     "output_type": "stream",
     "text": [
      "Passing a tuple of `past_key_values` is deprecated and will be removed in Transformers v4.48.0. You should pass an instance of `EncoderDecoderCache` instead, e.g. `past_key_values=EncoderDecoderCache.from_legacy_cache(past_key_values)`.\n"
     ]
    },
    {
     "name": "stdout",
     "output_type": "stream",
     "text": [
      "Epoch 1/3, Loss: 1.6821\n",
      "Epoch 2/3, Loss: 0.6187\n",
      "Epoch 3/3, Loss: 0.5226\n"
     ]
    }
   ],
   "source": [
    "import torch\n",
    "from transformers import AutoModelForSeq2SeqLM, AutoTokenizer, AdamW\n",
    "from torch.utils.data import DataLoader\n",
    "\n",
    "# Load models and tokenizers\n",
    "opus_model = AutoModelForSeq2SeqLM.from_pretrained(\"Helsinki-NLP/opus-mt-en-de\")\n",
    "t5_model = AutoModelForSeq2SeqLM.from_pretrained(\"google-t5/t5-small\")\n",
    "\n",
    "# Move models to CPU\n",
    "device = torch.device(\"cpu\")\n",
    "opus_model.to(device)\n",
    "t5_model.to(device)\n",
    "\n",
    "# Hyperparameters\n",
    "EPOCHS = 3\n",
    "BATCH_SIZE = 8\n",
    "LEARNING_RATE = 5e-5\n",
    "\n",
    "# Define data loaders\n",
    "def create_dataloader(dataset, batch_size):\n",
    "    return DataLoader(dataset, batch_size=batch_size, shuffle=True)\n",
    "\n",
    "opus_train_loader = create_dataloader(opus_train_dataset, BATCH_SIZE)\n",
    "t5_train_loader = create_dataloader(t5_train_dataset, BATCH_SIZE)\n",
    "\n",
    "# Training loop\n",
    "def train_model(model, dataloader, optimizer, device, epochs):\n",
    "    model.train()\n",
    "    for epoch in range(epochs):\n",
    "        total_loss = 0\n",
    "        for batch in dataloader:\n",
    "            # Move data to device\n",
    "            input_ids = batch[\"input_ids\"].to(device)\n",
    "            attention_mask = batch[\"attention_mask\"].to(device)\n",
    "            labels = batch[\"labels\"].to(device)\n",
    "\n",
    "            # Forward pass\n",
    "            outputs = model(input_ids=input_ids, attention_mask=attention_mask, labels=labels)\n",
    "            loss = outputs.loss\n",
    "\n",
    "            # Backward pass\n",
    "            optimizer.zero_grad()\n",
    "            loss.backward()\n",
    "            optimizer.step()\n",
    "\n",
    "            total_loss += loss.item()\n",
    "\n",
    "        print(f\"Epoch {epoch + 1}/{epochs}, Loss: {total_loss / len(dataloader):.4f}\")\n",
    "\n",
    "# Optimizers\n",
    "opus_optimizer = AdamW(opus_model.parameters(), lr=LEARNING_RATE)\n",
    "t5_optimizer = AdamW(t5_model.parameters(), lr=LEARNING_RATE)\n",
    "\n",
    "# Train Helsinki-NLP model\n",
    "print(\"Training Helsinki-NLP model...\")\n",
    "train_model(opus_model, opus_train_loader, opus_optimizer, device, EPOCHS)\n",
    "\n",
    "# Train T5 model\n",
    "print(\"Training T5 model...\")\n",
    "train_model(t5_model, t5_train_loader, t5_optimizer, device, EPOCHS)\n"
   ]
  },
  {
   "cell_type": "code",
   "execution_count": 15,
   "metadata": {},
   "outputs": [
    {
     "name": "stderr",
     "output_type": "stream",
     "text": [
      "/Users/sasankperumal/Documents/DL_HW2/venv/lib/python3.11/site-packages/transformers/modeling_utils.py:2817: UserWarning: Moving the following attributes in the config to the generation config: {'max_length': 512, 'num_beams': 4, 'bad_words_ids': [[58100]]}. You are seeing this warning because you've set generation parameters in the model config, as opposed to in the generation config.\n",
      "  warnings.warn(\n"
     ]
    },
    {
     "name": "stdout",
     "output_type": "stream",
     "text": [
      "Models saved successfully!\n"
     ]
    }
   ],
   "source": [
    "# Save the trained Helsinki-NLP model\n",
    "opus_model_save_path = \"./trained_opus_model\"\n",
    "opus_model.save_pretrained(opus_model_save_path)\n",
    "opus_tokenizer.save_pretrained(opus_model_save_path)\n",
    "\n",
    "# Save the trained T5 model\n",
    "t5_model_save_path = \"./trained_t5_model\"\n",
    "t5_model.save_pretrained(t5_model_save_path)\n",
    "t5_tokenizer.save_pretrained(t5_model_save_path)\n",
    "\n",
    "print(f\"Models saved successfully!\")\n"
   ]
  },
  {
   "cell_type": "code",
   "execution_count": 16,
   "metadata": {},
   "outputs": [
    {
     "name": "stdout",
     "output_type": "stream",
     "text": [
      "Generating predictions for Helsinki-NLP model...\n",
      "Generating predictions for T5 model...\n",
      "Evaluating Helsinki-NLP model...\n",
      "Evaluating T5 model...\n",
      "Helsinki-NLP Metrics: {'BLEU': 21.570023633679433, 'ChrF': 52.35008889906947, 'ROUGE-1': 0.5182763264414103, 'ROUGE-L': 0.4713842486009244, 'BERTScore': 0.8410338759422302}\n",
      "Google-T5 Metrics: {'BLEU': 13.7371451491362, 'ChrF': 38.16474631915072, 'ROUGE-1': 0.3276152803740502, 'ROUGE-L': 0.2945219691273232, 'BERTScore': 0.5115270018577576}\n"
     ]
    },
    {
     "name": "stderr",
     "output_type": "stream",
     "text": [
      "Warning: Empty candidate sentence detected; setting raw BERTscores to 0.\n",
      "Warning: Empty candidate sentence detected; setting raw BERTscores to 0.\n",
      "Warning: Empty candidate sentence detected; setting raw BERTscores to 0.\n",
      "Warning: Empty candidate sentence detected; setting raw BERTscores to 0.\n",
      "Warning: Empty candidate sentence detected; setting raw BERTscores to 0.\n",
      "Warning: Empty candidate sentence detected; setting raw BERTscores to 0.\n",
      "Warning: Empty candidate sentence detected; setting raw BERTscores to 0.\n",
      "Warning: Empty candidate sentence detected; setting raw BERTscores to 0.\n",
      "Warning: Empty candidate sentence detected; setting raw BERTscores to 0.\n",
      "Warning: Empty candidate sentence detected; setting raw BERTscores to 0.\n"
     ]
    }
   ],
   "source": [
    "from sacrebleu import corpus_bleu, corpus_chrf\n",
    "from rouge_score import rouge_scorer\n",
    "from bert_score import score\n",
    "\n",
    "# Function to generate predictions\n",
    "def generate_predictions(model, tokenizer, dataloader, device):\n",
    "    model.eval()\n",
    "    predictions = []\n",
    "    references = []\n",
    "    with torch.no_grad():\n",
    "        for batch in dataloader:\n",
    "            input_ids = batch[\"input_ids\"].to(device)\n",
    "            labels = batch[\"labels\"]\n",
    "\n",
    "            outputs = model.generate(input_ids, max_length=128, num_beams=4)\n",
    "            predictions += [tokenizer.decode(output, skip_special_tokens=True) for output in outputs]\n",
    "            references += [tokenizer.decode(label, skip_special_tokens=True) for label in labels]\n",
    "    return predictions, references\n",
    "\n",
    "# Create test dataloaders\n",
    "opus_test_loader = create_dataloader(opus_test_dataset, BATCH_SIZE)\n",
    "t5_test_loader = create_dataloader(t5_test_dataset, BATCH_SIZE)\n",
    "\n",
    "# Generate predictions for both models\n",
    "print(\"Generating predictions for Helsinki-NLP model...\")\n",
    "opus_predictions, opus_references = generate_predictions(opus_model, opus_tokenizer, opus_test_loader, device)\n",
    "\n",
    "print(\"Generating predictions for T5 model...\")\n",
    "t5_predictions, t5_references = generate_predictions(t5_model, t5_tokenizer, t5_test_loader, device)\n",
    "\n",
    "# Compute evaluation metrics\n",
    "def evaluate_model(predictions, references):\n",
    "    bleu = corpus_bleu(predictions, [references]).score\n",
    "    chrf = corpus_chrf(predictions, [references]).score\n",
    "    scorer = rouge_scorer.RougeScorer([\"rouge1\", \"rougeL\"], use_stemmer=True)\n",
    "    rouge_scores = [scorer.score(ref, pred) for ref, pred in zip(references, predictions)]\n",
    "    rouge1 = sum([r[\"rouge1\"].fmeasure for r in rouge_scores]) / len(rouge_scores)\n",
    "    rougeL = sum([r[\"rougeL\"].fmeasure for r in rouge_scores]) / len(rouge_scores)\n",
    "    bert = score(predictions, references, lang=\"de\", verbose=False)\n",
    "    bert_f1 = bert[2].mean().item()\n",
    "    return {\"BLEU\": bleu, \"ChrF\": chrf, \"ROUGE-1\": rouge1, \"ROUGE-L\": rougeL, \"BERTScore\": bert_f1}\n",
    "\n",
    "# Evaluate both models\n",
    "print(\"Evaluating Helsinki-NLP model...\")\n",
    "opus_metrics = evaluate_model(opus_predictions, opus_references)\n",
    "\n",
    "print(\"Evaluating T5 model...\")\n",
    "t5_metrics = evaluate_model(t5_predictions, t5_references)\n",
    "\n",
    "# Display metrics\n",
    "print(\"Helsinki-NLP Metrics:\", opus_metrics)\n",
    "print(\"Google-T5 Metrics:\", t5_metrics)\n"
   ]
  }
 ],
 "metadata": {
  "kernelspec": {
   "display_name": "venv",
   "language": "python",
   "name": "python3"
  },
  "language_info": {
   "codemirror_mode": {
    "name": "ipython",
    "version": 3
   },
   "file_extension": ".py",
   "mimetype": "text/x-python",
   "name": "python",
   "nbconvert_exporter": "python",
   "pygments_lexer": "ipython3",
   "version": "3.11.10"
  },
  "orig_nbformat": 4
 },
 "nbformat": 4,
 "nbformat_minor": 2
}
